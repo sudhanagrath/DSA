{
 "cells": [
  {
   "cell_type": "code",
   "execution_count": 5,
   "metadata": {},
   "outputs": [],
   "source": [
    "class Node():\n",
    "    def __init__(self, key = None):\n",
    "        self.key = key\n",
    "        self.next = None\n",
    "        self.previous = None"
   ]
  },
  {
   "cell_type": "code",
   "execution_count": 6,
   "metadata": {},
   "outputs": [],
   "source": [
    "class DoublyLinkedList():\n",
    "    def __init__(self):\n",
    "        self.head = None\n",
    "        self.tail = None\n",
    "        \n",
    "    def add_to_front(self, key, node):  \n",
    "        # if there is no node to add make a new node using the key\n",
    "        if node == None:\n",
    "            node = Node(key)\n",
    "        # if there are no head and tail in the doubly linked list, \n",
    "        # make the new node as head and tail of the doubly linked list\n",
    "        if self.head == None:\n",
    "            self.head = node\n",
    "            self.tail = node\n",
    "        # if the head exists, make the new node its previous node.\n",
    "        # make head next of the new node\n",
    "        # finally make new node as the head node.\n",
    "        else:\n",
    "            self.head.previous = node\n",
    "            node.next = self.head\n",
    "            self.head = node\n",
    "        return node\n",
    "    \n",
    "    def move_to_front(self, node):\n",
    "        # if new node is head, do not move.\n",
    "        if node == self.head:\n",
    "            return\n",
    "        # if new node is tail, return the last node\n",
    "        elif node == self.tail:\n",
    "            self.remove_last()\n",
    "        else:\n",
    "        # if new node is in the middle, return that node\n",
    "            self.remove_node(node)\n",
    "        return self.add_to_front(None, node)\n",
    "    \n",
    "    def remove_node(self, node):\n",
    "        # Identify the before and after nodes of the node to remove.\n",
    "        # Point next of the before node to after node\n",
    "        # Point previous of the after node to before node\n",
    "        before_node = node.previous\n",
    "        after_node = node.next\n",
    "        before_node.next = after_node\n",
    "        after_node.previous = before_node\n",
    "        \n",
    "    def remove_last(self):\n",
    "        # Identify the last node. Set tail as previous of the last node.\n",
    "        # Make next of the tail to point to None.\n",
    "        last_node = self.tail\n",
    "        self.tail = last_node.previous\n",
    "        self.tail.next = None\n",
    "        return last_node.key\n",
    "    \n",
    "    def print_ll(self):\n",
    "        node = self.head\n",
    "        llist = []\n",
    "        while node is not None:\n",
    "            llist.append(node.key)\n",
    "            node = node.next\n",
    "        return llist\n"
   ]
  },
  {
   "cell_type": "code",
   "execution_count": 7,
   "metadata": {},
   "outputs": [],
   "source": [
    "class LRU_Cache(object):\n",
    "    \"\"\"\n",
    "    Using doubly linked list to build the cache from hash_map as dictionary\n",
    "    \"\"\"\n",
    "\n",
    "    def __init__(self, capacity):\n",
    "        self.capacity = capacity\n",
    "        self.num_of_entries = 0\n",
    "        self.hash_map = {}\n",
    "        self.dlinkedlist = DoublyLinkedList()\n",
    "\n",
    "    def get(self, key):\n",
    "        # check if the key is hash map\n",
    "        if key not in self.hash_map:\n",
    "            return -1\n",
    "        else:\n",
    "            # if key is found, get the node from hash_map for that key\n",
    "            node = self.hash_map[key]['ref']\n",
    "            # Move the corresponding node to front in the doubly linked list\n",
    "            self.dlinkedlist.move_to_front(node)\n",
    "            # return the value of hash_map key\n",
    "            return self.hash_map[key]['value']\n",
    "           \n",
    "    def set(self, key, value):\n",
    "        # set or update the doubly linked list cache.\n",
    "        if key == None:\n",
    "            return\n",
    "        if self.get(key) == -1:\n",
    "             # if key is not in hash_map and there is capacity to add \n",
    "            if self.num_of_entries < self.capacity:\n",
    "                self.num_of_entries += 1\n",
    "                # create a new node and add it to the doubly linked list\n",
    "                node = self.dlinkedlist.add_to_front(key, None)\n",
    "                # update the hash_map key with the value and node\n",
    "                self.hash_map[key] = {'value': value, 'ref': node}\n",
    "            else:\n",
    "                 # if capacity full, remove last key\n",
    "                key_to_remove = self.dlinkedlist.remove_last()\n",
    "                if key == key_to_remove:\n",
    "                    # move the last node to front of the linked list\n",
    "                    self.dlinkedlist.move_to_front(self.cache[key]['ref'])\n",
    "                    # update hash_map key with the value\n",
    "                    self.hash_map[key]['value'] = value\n",
    "                else:\n",
    "                    # if key is new key, remove the last key\n",
    "                    del self.hash_map[key_to_remove]\n",
    "                    # add node to the doubly linked list\n",
    "                    node = self.dlinkedlist.add_to_front(key, None)\n",
    "                    # update hash_map key with the value and node\n",
    "                    self.hash_map[key] = {'value': value, 'ref': node}\n",
    "        else:\n",
    "             # if key found in the dictionary, overwrite the value\n",
    "            self.hash_map[key]['value'] = value\n",
    "   "
   ]
  },
  {
   "cell_type": "code",
   "execution_count": 24,
   "metadata": {},
   "outputs": [],
   "source": [
    "def test_cache_create(capacity, input_list, expected_output, test_details):\n",
    "    our_cache = LRU_Cache(capacity)\n",
    "    print(\"Initialize cache with capacity: {}\".format(capacity))\n",
    "    for key, value in input_list:\n",
    "        print(\"Set {}:{}\".format(key, value))\n",
    "        our_cache.set(key, value)\n",
    "    linked_list = our_cache.dlinkedlist.print_ll()\n",
    "    if linked_list == expected_output:\n",
    "        print(test_details+': Pass {}'.format(linked_list))\n",
    "    else:\n",
    "        print(test_details+': Fail {}'.format(linked_list))\n",
    "\n",
    "def test_cache_get_by_element(capacity, input_list, get_element, expected_output, test_details):\n",
    "    our_cache = LRU_Cache(capacity)\n",
    "    print(\"Initialize cache with capacity: {}\".format(capacity))\n",
    "    for key, value in input_list:\n",
    "        print(\"Set {}:{}\".format(key, value))\n",
    "        our_cache.set(key, value)\n",
    "    if our_cache.get(get_element) == expected_output:\n",
    "        print(test_details+': Pass, Return {} for get({})'.format(expected_output,get_element))\n",
    "    else:\n",
    "        print(test_details+': Fail, Actual: {} Vs Expected: {}'.format(our_cache.get(get_element),expected_output))\n",
    "        \n",
    "\n"
   ]
  },
  {
   "cell_type": "code",
   "execution_count": 14,
   "metadata": {},
   "outputs": [
    {
     "name": "stdout",
     "output_type": "stream",
     "text": [
      "Initialize cache with capacity: 5\n",
      "Set 1:1\n",
      "Set 2:2\n",
      "Set 3:3\n",
      "Set 4:4\n",
      "create cache from the input_list and compare it with the expected_output: Pass [4, 3, 2, 1]\n"
     ]
    }
   ],
   "source": [
    "test_details = \"create cache from the input_list and compare it with the expected_output\"\n",
    "input_list = [(1, 1),(2, 2),(3, 3),(4, 4)]\n",
    "expected_output = [4,3,2,1]\n",
    "capacity = 5\n",
    "test_cache_set(capacity, input_list, expected_output, test_details)"
   ]
  },
  {
   "cell_type": "code",
   "execution_count": 15,
   "metadata": {},
   "outputs": [
    {
     "name": "stdout",
     "output_type": "stream",
     "text": [
      "Initialize cache with capacity: 5\n",
      "Set 1:1\n",
      "Set None:2\n",
      "Set 3:3\n",
      "Set 4:4\n",
      "Handles None input: Pass [4, 3, 1]\n"
     ]
    }
   ],
   "source": [
    "test_details = \"Test the None input for key\"\n",
    "input_list = [(1, 1),(None, 2),(3, 3),(4, 4)]\n",
    "expected_output = [4,3,1]\n",
    "capacity = 5\n",
    "test_cache_set(capacity, input_list, expected_output, test_details)\n"
   ]
  },
  {
   "cell_type": "code",
   "execution_count": 16,
   "metadata": {},
   "outputs": [
    {
     "name": "stdout",
     "output_type": "stream",
     "text": [
      "Initialize cache with capacity: 5\n",
      "Set 1:1\n",
      "Set 2:2\n",
      "Set 3:3\n",
      "Set 4:4\n",
      "Set 5:5\n",
      "Set 6:6\n",
      "Set 7:7\n",
      "Test if LRU entries are purged: Pass [7, 6, 5, 4, 3]\n"
     ]
    }
   ],
   "source": [
    "test_details = \"Test if LRU entries are purged\"\n",
    "input_list = [(1, 1),(2, 2),(3, 3),(4, 4),(5,5),(6,6),(7,7)]\n",
    "expected_output = [7,6,5,4,3]\n",
    "capacity = 5\n",
    "test_cache_set(capacity, input_list, expected_output, test_details)        "
   ]
  },
  {
   "cell_type": "code",
   "execution_count": 17,
   "metadata": {},
   "outputs": [
    {
     "name": "stdout",
     "output_type": "stream",
     "text": [
      "Initialize cache with capacity: 5\n",
      "Set 1:1\n",
      "Set 2:2\n",
      "Set 3:3\n",
      "Set 4:4\n",
      "Test cache miss: Pass, Return -1 for get(15)\n"
     ]
    }
   ],
   "source": [
    "test_details= 'Test cache miss'\n",
    "input_list = [(1, 1),(2, 2),(3, 3),(4, 4)]\n",
    "get_element = 15\n",
    "expected_output = -1\n",
    "capacity = 5\n",
    "test_cache_get_by_element(capacity, input_list, get_element, expected_output, test_details)"
   ]
  },
  {
   "cell_type": "code",
   "execution_count": 18,
   "metadata": {},
   "outputs": [
    {
     "name": "stdout",
     "output_type": "stream",
     "text": [
      "Initialize cache with capacity: 5\n",
      "Set 1:1\n",
      "Set 2:2\n",
      "Set 3:3\n",
      "Set 4:4\n",
      "Test cache hit: Pass, Return 4 for get(4)\n"
     ]
    }
   ],
   "source": [
    "test_details= 'Test cache hit'\n",
    "input_list = [(1, 1),(2, 2),(3, 3),(4, 4)]\n",
    "get_element = 4\n",
    "expected_output = 4\n",
    "capacity = 5\n",
    "test_cache_get_by_element(capacity, input_list, get_element, expected_output, test_details)"
   ]
  },
  {
   "cell_type": "code",
   "execution_count": null,
   "metadata": {},
   "outputs": [],
   "source": []
  },
  {
   "cell_type": "code",
   "execution_count": null,
   "metadata": {},
   "outputs": [],
   "source": []
  }
 ],
 "metadata": {
  "kernelspec": {
   "display_name": "Python 3",
   "language": "python",
   "name": "python3"
  },
  "language_info": {
   "codemirror_mode": {
    "name": "ipython",
    "version": 3
   },
   "file_extension": ".py",
   "mimetype": "text/x-python",
   "name": "python",
   "nbconvert_exporter": "python",
   "pygments_lexer": "ipython3",
   "version": "3.8.5"
  }
 },
 "nbformat": 4,
 "nbformat_minor": 4
}
