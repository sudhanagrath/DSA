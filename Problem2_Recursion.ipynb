{
 "cells": [
  {
   "cell_type": "code",
   "execution_count": 64,
   "metadata": {},
   "outputs": [],
   "source": [
    "import os\n",
    "\n",
    "list_files =[]\n",
    "def find_files(suffix, path):\n",
    "    if path == None or suffix == None:\n",
    "        return ('Please specify path/suffix')\n",
    "    for item in os.listdir(path):\n",
    "        file_path=os.path.join(path,item)    \n",
    "        if os.path.isfile(file_path):\n",
    "            if file_path.endswith(suffix):\n",
    "                list_files.append(file_path)\n",
    "        elif os.path.isdir(file_path):\n",
    "            find_files(suffix, file_path)\n",
    "    if len(list_files) == 0:\n",
    "        return 'No files with the given suffix'\n",
    "    else:\n",
    "        return list_files\n"
   ]
  },
  {
   "cell_type": "code",
   "execution_count": 65,
   "metadata": {},
   "outputs": [],
   "source": [
    "def test(suffix, path):\n",
    "    output = find_files(suffix, path)\n",
    "    print('Files with the suffix: {} on path {}'.format(suffix, path))\n",
    "    if output == 'No files with the given suffix':\n",
    "        print('No files with the given suffix')\n",
    "    elif output == 'Please specify path/suffix':\n",
    "        print('Please specify path/suffix')\n",
    "    else:\n",
    "        for file in output:\n",
    "            print(file)   \n"
   ]
  },
  {
   "cell_type": "code",
   "execution_count": 66,
   "metadata": {},
   "outputs": [
    {
     "name": "stdout",
     "output_type": "stream",
     "text": [
      "Files with the suffix: .d on path /Users/sudhanagrath/testdir\n",
      "No files with the given suffix\n"
     ]
    }
   ],
   "source": [
    "test('.d', '/Users/sudhanagrath/testdir')# Expected output No files matching this suffix"
   ]
  },
  {
   "cell_type": "code",
   "execution_count": 67,
   "metadata": {},
   "outputs": [
    {
     "name": "stdout",
     "output_type": "stream",
     "text": [
      "Files with the suffix: .c on path /Users/sudhanagrath/testdir\n",
      "/Users/sudhanagrath/testdir/subdir3/subsubdir1/b.c\n",
      "/Users/sudhanagrath/testdir/t1.c\n",
      "/Users/sudhanagrath/testdir/subdir5/a.c\n",
      "/Users/sudhanagrath/testdir/subdir1/a.c\n"
     ]
    }
   ],
   "source": [
    "test('.c', '/Users/sudhanagrath/testdir')   \n",
    "   \n"
   ]
  },
  {
   "cell_type": "code",
   "execution_count": 68,
   "metadata": {},
   "outputs": [
    {
     "name": "stdout",
     "output_type": "stream",
     "text": [
      "Files with the suffix: None on path /Users/sudhanagrath/testdir\n",
      "Please specify path/suffix\n"
     ]
    }
   ],
   "source": [
    "test(None, '/Users/sudhanagrath/testdir')"
   ]
  },
  {
   "cell_type": "code",
   "execution_count": null,
   "metadata": {},
   "outputs": [],
   "source": []
  }
 ],
 "metadata": {
  "kernelspec": {
   "display_name": "Python 3",
   "language": "python",
   "name": "python3"
  },
  "language_info": {
   "codemirror_mode": {
    "name": "ipython",
    "version": 3
   },
   "file_extension": ".py",
   "mimetype": "text/x-python",
   "name": "python",
   "nbconvert_exporter": "python",
   "pygments_lexer": "ipython3",
   "version": "3.8.5"
  }
 },
 "nbformat": 4,
 "nbformat_minor": 4
}
