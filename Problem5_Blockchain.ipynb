{
 "cells": [
  {
   "cell_type": "code",
   "execution_count": 1,
   "metadata": {},
   "outputs": [],
   "source": [
    "import hashlib\n",
    "import datetime\n",
    "\n",
    "\n",
    "class Block:\n",
    "\n",
    "    def __init__(self, data, previous_hash):\n",
    "        self.timestamp = str(datetime.datetime.utcnow())\n",
    "        self.data = data\n",
    "        self.previous_hash = previous_hash\n",
    "        self.hash = self.calc_hash(self.timestamp, self.data, self.previous_hash)\n",
    "        self.next = None \n",
    "    \n",
    "    def calc_hash(self, timestamp, data, previous_hash):\n",
    "        block_content = timestamp + str(data) + str(previous_hash)\n",
    "        sha = hashlib.sha256()\n",
    "        hash_str = block_content.encode('utf-8')\n",
    "\n",
    "        sha.update(hash_str)\n",
    "        return sha.hexdigest()\n",
    "    def get_hash(self):\n",
    "        return self.hash\n",
    "    def get_previous_hash(self):\n",
    "        return self.previous_hash"
   ]
  },
  {
   "cell_type": "code",
   "execution_count": 2,
   "metadata": {},
   "outputs": [],
   "source": [
    "class Blockchain():\n",
    "    \n",
    "    def __init__(self, head=None, tail=None):\n",
    "        self.head = head\n",
    "        self.tail = tail\n",
    "    def add_block(self, data, previous_hash):\n",
    "        if data == None:\n",
    "            return None\n",
    "        new_block = Block(data, previous_hash)\n",
    "        if self.head == None:\n",
    "            self.head = new_block\n",
    "            self.tail = self.head\n",
    "        else:\n",
    "            self.tail.next = new_block\n",
    "            self.tail = new_block\n",
    "        return new_block\n",
    "    def get_last_hash(self):\n",
    "        if self.tail == None:\n",
    "            return '00000'\n",
    "        return self.tail.get_hash()\n",
    "    def is_chain_valid(self):\n",
    "        node = self.head\n",
    "        previous_hash = '00000'\n",
    "        while node:\n",
    "            if node.get_previous_hash() != previous_hash:\n",
    "                return False\n",
    "            previous_hash = node.get_hash()\n",
    "            node = node.next\n",
    "        return True\n",
    "\n",
    "    def __iter__(self):\n",
    "        node = self.head\n",
    "        while node:\n",
    "            yield ['Data :{}, SHA256 Hash: {}, Previous Hash: {}, Timestamp: {}'.format(node.data, node.hash, node.previous_hash, node.timestamp)]\n",
    "            node = node.next\n",
    "    def __repr__(self):\n",
    "        return str([v for v in self])"
   ]
  },
  {
   "cell_type": "code",
   "execution_count": 3,
   "metadata": {},
   "outputs": [],
   "source": [
    "def test(newblocks):\n",
    "    myblockchain = Blockchain()\n",
    "    for blockdata in newblocks:\n",
    "        previous_hash = myblockchain.get_last_hash()\n",
    "        new_block = myblockchain.add_block(blockdata, previous_hash)\n",
    "        if new_block != None:\n",
    "            print(\"Adding new block: {}\".format(new_block.data))\n",
    "            print(\"TimeStamp: {}\".format(new_block.timestamp))\n",
    "            print(\"Hash: {}\".format(new_block.hash))\n",
    "            print(\"Previous Hash: {}\".format(previous_hash))\n",
    "            print(\"\\n\")\n",
    "        else:\n",
    "            print(\"Block with value: {} not added\".format(blockdata))\n",
    "            print(\"\\n\")\n",
    "    if myblockchain.is_chain_valid():\n",
    "        print('Pass: blockchain is Valid')\n",
    "    else:\n",
    "        print('Fail: blockchain is not Valid')\n",
    "    print(myblockchain)"
   ]
  },
  {
   "cell_type": "code",
   "execution_count": 4,
   "metadata": {},
   "outputs": [
    {
     "name": "stdout",
     "output_type": "stream",
     "text": [
      "Pass: blockchain is Valid\n",
      "[]\n"
     ]
    }
   ],
   "source": [
    "test([]) # Expected output: Pass: blockchain is Valid"
   ]
  },
  {
   "cell_type": "code",
   "execution_count": 5,
   "metadata": {},
   "outputs": [
    {
     "name": "stdout",
     "output_type": "stream",
     "text": [
      "Adding new block: 100000\n",
      "TimeStamp: 2023-10-02 08:22:19.384760\n",
      "Hash: 1c0fa5e2780bdaa84a0a63eb0c8ccaeec6ed159a84053af9e7fdb5e473d50fdf\n",
      "Previous Hash: 00000\n",
      "\n",
      "\n",
      "Pass: blockchain is Valid\n",
      "[['Data :100000, SHA256 Hash: 1c0fa5e2780bdaa84a0a63eb0c8ccaeec6ed159a84053af9e7fdb5e473d50fdf, Previous Hash: 00000, Timestamp: 2023-10-02 08:22:19.384760']]\n"
     ]
    }
   ],
   "source": [
    "test([100000]) # Expected output: Pass: blockchain is Valid\n",
    "\n"
   ]
  },
  {
   "cell_type": "code",
   "execution_count": 6,
   "metadata": {},
   "outputs": [
    {
     "name": "stdout",
     "output_type": "stream",
     "text": [
      "Adding new block: 100000\n",
      "TimeStamp: 2023-10-02 08:22:59.843476\n",
      "Hash: 872f70b3b073c00473631749fe29c7902b9e51b4cf8602efe7ff5e6c6f35d5b3\n",
      "Previous Hash: 00000\n",
      "\n",
      "\n",
      "Adding new block: 20\n",
      "TimeStamp: 2023-10-02 08:22:59.847744\n",
      "Hash: 484b615755b871b6f52fbc249c3d4fca086bfa223d9ba52d239cafc9799718a2\n",
      "Previous Hash: 872f70b3b073c00473631749fe29c7902b9e51b4cf8602efe7ff5e6c6f35d5b3\n",
      "\n",
      "\n",
      "Adding new block: 45\n",
      "TimeStamp: 2023-10-02 08:22:59.847896\n",
      "Hash: a6a3de224a845e6f644a283d79c4925ef7639fb28169f3b0d039556f4604a091\n",
      "Previous Hash: 484b615755b871b6f52fbc249c3d4fca086bfa223d9ba52d239cafc9799718a2\n",
      "\n",
      "\n",
      "Adding new block: 80\n",
      "TimeStamp: 2023-10-02 08:22:59.848033\n",
      "Hash: 7c9c7650e272b4e44eadb0061f13f41195068681f5f8fab2f1314889e6076830\n",
      "Previous Hash: a6a3de224a845e6f644a283d79c4925ef7639fb28169f3b0d039556f4604a091\n",
      "\n",
      "\n",
      "Block with value: None not added\n",
      "\n",
      "\n",
      "Adding new block: 2\n",
      "TimeStamp: 2023-10-02 08:22:59.848179\n",
      "Hash: 786e9f84a249f3bfb322931047125ae9e1ca6a2408dbd0c64b9dceb000676f53\n",
      "Previous Hash: 7c9c7650e272b4e44eadb0061f13f41195068681f5f8fab2f1314889e6076830\n",
      "\n",
      "\n",
      "Pass: blockchain is Valid\n",
      "[['Data :100000, SHA256 Hash: 872f70b3b073c00473631749fe29c7902b9e51b4cf8602efe7ff5e6c6f35d5b3, Previous Hash: 00000, Timestamp: 2023-10-02 08:22:59.843476'], ['Data :20, SHA256 Hash: 484b615755b871b6f52fbc249c3d4fca086bfa223d9ba52d239cafc9799718a2, Previous Hash: 872f70b3b073c00473631749fe29c7902b9e51b4cf8602efe7ff5e6c6f35d5b3, Timestamp: 2023-10-02 08:22:59.847744'], ['Data :45, SHA256 Hash: a6a3de224a845e6f644a283d79c4925ef7639fb28169f3b0d039556f4604a091, Previous Hash: 484b615755b871b6f52fbc249c3d4fca086bfa223d9ba52d239cafc9799718a2, Timestamp: 2023-10-02 08:22:59.847896'], ['Data :80, SHA256 Hash: 7c9c7650e272b4e44eadb0061f13f41195068681f5f8fab2f1314889e6076830, Previous Hash: a6a3de224a845e6f644a283d79c4925ef7639fb28169f3b0d039556f4604a091, Timestamp: 2023-10-02 08:22:59.848033'], ['Data :2, SHA256 Hash: 786e9f84a249f3bfb322931047125ae9e1ca6a2408dbd0c64b9dceb000676f53, Previous Hash: 7c9c7650e272b4e44eadb0061f13f41195068681f5f8fab2f1314889e6076830, Timestamp: 2023-10-02 08:22:59.848179']]\n"
     ]
    }
   ],
   "source": [
    "test([100000,20,45,80,None,2]) # Expected output: Pass: blockchain is Valid"
   ]
  },
  {
   "cell_type": "code",
   "execution_count": null,
   "metadata": {},
   "outputs": [],
   "source": []
  }
 ],
 "metadata": {
  "kernelspec": {
   "display_name": "Python 3",
   "language": "python",
   "name": "python3"
  },
  "language_info": {
   "codemirror_mode": {
    "name": "ipython",
    "version": 3
   },
   "file_extension": ".py",
   "mimetype": "text/x-python",
   "name": "python",
   "nbconvert_exporter": "python",
   "pygments_lexer": "ipython3",
   "version": "3.8.5"
  }
 },
 "nbformat": 4,
 "nbformat_minor": 4
}
