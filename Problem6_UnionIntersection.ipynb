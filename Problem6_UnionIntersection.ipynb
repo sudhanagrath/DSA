{
 "cells": [
  {
   "cell_type": "code",
   "execution_count": 1,
   "metadata": {},
   "outputs": [],
   "source": [
    "class Node:\n",
    "    def __init__(self, value):\n",
    "        self.value = value\n",
    "        self.next = None\n",
    "    def __repr__(self):\n",
    "        return str(self.value)"
   ]
  },
  {
   "cell_type": "code",
   "execution_count": 2,
   "metadata": {},
   "outputs": [],
   "source": [
    "class LinkedList:\n",
    "    def __init__(self):\n",
    "        self.head = None\n",
    "    def append(self, value):\n",
    "        if self.head is None:\n",
    "            self.head = Node(value)\n",
    "            return\n",
    "        node = self.head\n",
    "        while node.next:\n",
    "            node = node.next\n",
    "        node.next = Node(value)\n",
    "    def size(self):\n",
    "        size = 0\n",
    "        node = self.head\n",
    "        while node:\n",
    "            size += 1\n",
    "            node = node.next\n",
    "        return size\n",
    "    def __repr__(self):\n",
    "        node = self.head\n",
    "        nodes = []\n",
    "        while node :\n",
    "            nodes.append(str(node.value))\n",
    "            node = node.next\n",
    "        nodes.append(\"None\")\n",
    "        return \"->\".join(nodes)\n",
    "    def search(self, value):\n",
    "        if self.head is None:\n",
    "            return\n",
    "        node = self.head\n",
    "        while node is not None:\n",
    "            if node.value == value:\n",
    "                return value\n",
    "            node = node.next\n",
    "        return None\n",
    "    def print_linked_list(self):\n",
    "        current_node = self.head\n",
    "        while current_node is not None:\n",
    "            print(current_node.value, end= ' ')\n",
    "            current_node = current_node.next\n",
    "    def to_list(self):\n",
    "        out = []\n",
    "        node = self.head\n",
    "        while node:\n",
    "            out.append(node.value)\n",
    "            node = node.next\n",
    "        return out  "
   ]
  },
  {
   "cell_type": "code",
   "execution_count": 3,
   "metadata": {},
   "outputs": [],
   "source": [
    "def union(llist_1, llist_2):\n",
    "    if llist_1 == None or llist_2 == None:\n",
    "        return None\n",
    "    union_llist = LinkedList()\n",
    "    node1 = llist_1.head\n",
    "    node2 = llist_2.head\n",
    "#     Remove duplicates\n",
    "    unique_nodes = set()\n",
    "    while node1 :\n",
    "        unique_nodes.add(node1.value)\n",
    "        node1 = node1.next\n",
    "    while node2:\n",
    "        unique_nodes.add(node2.value)\n",
    "        node2 = node2.next\n",
    "#         Build a union linked list\n",
    "    for element in unique_nodes:\n",
    "        union_llist.append(element)\n",
    "\n",
    "    return union_llist"
   ]
  },
  {
   "cell_type": "code",
   "execution_count": 4,
   "metadata": {},
   "outputs": [],
   "source": [
    "def intersection(llist_1, llist_2):\n",
    "    if llist_1 == None or llist_2 == None:\n",
    "        return None\n",
    "    intersection_llist = LinkedList()\n",
    "    node1 = llist_1.head\n",
    "    node2 = llist_2.head\n",
    "    unique_nodes_ll1 = set()\n",
    "    while node1 :\n",
    "        unique_nodes_ll1.add(node1.value)\n",
    "        node1 = node1.next\n",
    "    \n",
    "    while node2:\n",
    "        if node2.value in unique_nodes_ll1:\n",
    "            intersection_llist.append(node2.value)\n",
    "            unique_nodes_ll1.remove(node2.value)\n",
    "        node2 = node2.next\n",
    "    \n",
    "    return intersection_llist"
   ]
  },
  {
   "cell_type": "code",
   "execution_count": 5,
   "metadata": {},
   "outputs": [],
   "source": [
    "linked_list_1 = LinkedList()\n",
    "linked_list_2 = LinkedList()\n",
    "linked_list_3 = LinkedList()\n",
    "linked_list_4 = LinkedList()\n",
    "linked_list_5 = LinkedList()\n",
    "\n",
    "element_1 = [3,2,4,35,6,65,6,4,3,21]\n",
    "element_2 = [6,32,4,9,6,1,11,21,1]\n",
    "element_3 = [3,2,4,35,6,65,6,4,3,23]\n",
    "element_4 = [1,7,8,9,11,21,1]\n",
    "\n",
    "for i in element_1:\n",
    "    linked_list_1.append(i)\n",
    "\n",
    "for i in element_2:\n",
    "    linked_list_2.append(i)\n",
    "\n",
    "for i in element_3:\n",
    "    linked_list_3.append(i)\n",
    "\n",
    "for i in element_4:\n",
    "    linked_list_4.append(i)\n",
    "    "
   ]
  },
  {
   "cell_type": "code",
   "execution_count": 6,
   "metadata": {},
   "outputs": [],
   "source": [
    "def test_union(ll1, ll2):\n",
    "    union_llist = union(ll1,ll2)\n",
    "    print(\"Union of: {} \\nAnd: {}\".format(ll1, ll2))\n",
    "    print(\"Union list is: {}\".format(union_llist))\n",
    "    if union_llist == None:\n",
    "        print(\"Input of type None, 2 linkedlists needs to be specified\\n\")\n",
    "        return\n",
    "    for element in ll1.to_list():\n",
    "        if element not in union_llist.to_list():\n",
    "            print(\"Element: {}, not added to Union list\".format(element))\n",
    "            return \n",
    "    for element in ll2.to_list():\n",
    "        if element not in union_llist.to_list():\n",
    "            print(\"Element: {}, not added to Union list\".format(element))\n",
    "            return\n",
    "\n",
    "    print(\"Pass: All the elements from the 1st and 2nd linked list have been added to the union linked list\\n\")\n",
    "    "
   ]
  },
  {
   "cell_type": "code",
   "execution_count": 8,
   "metadata": {},
   "outputs": [
    {
     "name": "stdout",
     "output_type": "stream",
     "text": [
      "Union of: 3->2->4->35->6->65->6->4->3->21->None \n",
      "And: 6->32->4->9->6->1->11->21->1->None\n",
      "Union list is: 32->65->2->35->3->4->6->1->9->11->21->None\n",
      "Pass: All the elements from the 1st and 2nd linked list have been added to the union linked list\n",
      "\n",
      "Union of: 3->2->4->35->6->65->6->4->3->23->None \n",
      "And: 1->7->8->9->11->21->1->None\n",
      "Union list is: 65->2->35->3->4->6->1->7->8->9->11->21->23->None\n",
      "Pass: All the elements from the 1st and 2nd linked list have been added to the union linked list\n",
      "\n",
      "Union of: None \n",
      "And: 1->7->8->9->11->21->1->None\n",
      "Union list is: 1->7->8->9->11->21->None\n",
      "Pass: All the elements from the 1st and 2nd linked list have been added to the union linked list\n",
      "\n"
     ]
    }
   ],
   "source": [
    "test_union(linked_list_1, linked_list_2) #Expected output: Pass\n",
    "test_union(linked_list_3, linked_list_4) #Expected output: Pass\n",
    "# test_union(None, linked_list_5) #Expected output: Input of type None\n",
    "test_union(linked_list_5, linked_list_4)\n"
   ]
  },
  {
   "cell_type": "code",
   "execution_count": 9,
   "metadata": {},
   "outputs": [],
   "source": [
    "def test_intersection(ll1, ll2):\n",
    "    ll1_list = ll1.to_list()\n",
    "    ll2_list = ll2.to_list()\n",
    "    intersection_llist = intersection(ll1, ll2)\n",
    "    if intersection_llist == None:\n",
    "        print(\"Input of type None, 2 linkedlists needs to be specified\\n\")\n",
    "        return\n",
    "    print(\"Intersection of: {} \\nAnd: {}\".format(ll1, ll2))\n",
    "    print(\"Intersection list is: {}\".format(intersection_llist))\n",
    "    intersection_nodes = set()\n",
    "    for element in ll2_list :\n",
    "        if element in ll1_list:\n",
    "            intersection_nodes.add(element)\n",
    "    \n",
    "    if intersection_llist.size() == len(intersection_nodes):\n",
    "        print('Pass: {} shared nodes\\n'.format(len(intersection_nodes)))\n",
    "    else:\n",
    "        print('Fail\\n')"
   ]
  },
  {
   "cell_type": "code",
   "execution_count": 10,
   "metadata": {},
   "outputs": [
    {
     "name": "stdout",
     "output_type": "stream",
     "text": [
      "Intersection of: 3->2->4->35->6->65->6->4->3->21->None \n",
      "And: 6->32->4->9->6->1->11->21->1->None\n",
      "Intersection list is: 6->4->21->None\n",
      "Pass: 3 shared nodes\n",
      "\n",
      "Intersection of: 3->2->4->35->6->65->6->4->3->23->None \n",
      "And: 1->7->8->9->11->21->1->None\n",
      "Intersection list is: None\n",
      "Pass: 0 shared nodes\n",
      "\n",
      "Intersection of: None \n",
      "And: 1->7->8->9->11->21->1->None\n",
      "Intersection list is: None\n",
      "Pass: 0 shared nodes\n",
      "\n"
     ]
    }
   ],
   "source": [
    "test_intersection(linked_list_1, linked_list_2) #Expected output: Pass\n",
    "test_intersection(linked_list_3, linked_list_4) #Expected output: Pass\n",
    "test_intersection(linked_list_5, linked_list_4)"
   ]
  },
  {
   "cell_type": "code",
   "execution_count": null,
   "metadata": {},
   "outputs": [],
   "source": []
  }
 ],
 "metadata": {
  "kernelspec": {
   "display_name": "Python 3",
   "language": "python",
   "name": "python3"
  },
  "language_info": {
   "codemirror_mode": {
    "name": "ipython",
    "version": 3
   },
   "file_extension": ".py",
   "mimetype": "text/x-python",
   "name": "python",
   "nbconvert_exporter": "python",
   "pygments_lexer": "ipython3",
   "version": "3.8.5"
  }
 },
 "nbformat": 4,
 "nbformat_minor": 4
}
